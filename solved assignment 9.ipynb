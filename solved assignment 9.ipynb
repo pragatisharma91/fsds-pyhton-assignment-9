{
 "cells": [
  {
   "cell_type": "markdown",
   "id": "79c809d4",
   "metadata": {},
   "source": [
    "1. To what does a relative path refer ?\n",
    "A relative path describes the location of a file relative to the current (working) directory. An absolute path describes the location from the root directory. When learning to access data files through programming, we regularly use relative file paths.\n",
    "PWD + relative path = absolute path"
   ]
  },
  {
   "cell_type": "markdown",
   "id": "823fb9b3",
   "metadata": {},
   "source": [
    "2. Where does an absolute path start with your Operating System ?\n",
    "In Linux based systems the absolute path starts with /. Where as in Windows based systems absolute path starts with C:"
   ]
  },
  {
   "cell_type": "markdown",
   "id": "6af06294",
   "metadata": {},
   "source": [
    "3. What does the functions os.getcwd() and os.chdir() do ?\n",
    "getcwd() : CWD stands for Current Working Directory. This function allows you to see what your current working directory is. chdir(\"path-to-dir\") : Short for CHange DIRectory, this function allows you to set the current working directory to a path of your choice."
   ]
  },
  {
   "cell_type": "markdown",
   "id": "1ff7b054",
   "metadata": {},
   "source": [
    "4. What are . and .. folders ?\n",
    ". Represents the Current Directory Whereas .. Represents the Parent Directory of the Current Directory\n",
    "For Example: if the below path is my absolute path:\n",
    "E:\\data science\\ineuron assignments\n",
    "Then . represents the path E:\\data science\\ineuron assignments\n",
    "Where as .. represents the path E:\\data science\n"
   ]
  },
  {
   "cell_type": "markdown",
   "id": "b38600b5",
   "metadata": {},
   "source": [
    "5. In C:\\bacon\\eggs\\spam.txt which part is the dir name and which part is the base name ?\n",
    "For C:\\bacon\\eggs\\spam.txt\n",
    "The dir name is C:\\\\bacon\\\\eggs\n",
    "The Base name is spam.txt"
   ]
  },
  {
   "cell_type": "markdown",
   "id": "ef15f289",
   "metadata": {},
   "source": [
    "6. What are the three mode arguments that can be passed to the open() function ?\n",
    "A file can be Accessed in python using open() function. open function takes two arguments filename and mode of operation (optional). if mode is not provided the default mode of opening is read mode\n",
    "So, the syntax being: open(filename, mode)\n",
    "\n",
    "‘r’ – Read Mode: This is the default mode for open(). The file is opened and a pointer is positioned at the beginning of the file’s content.\n",
    "‘w’ – Write Mode: Using this mode will overwrite any existing content in a file. If the given file does not exist, a new one will be created.\n",
    "‘r+’ – Read/Write Mode: Use this mode if you need to simultaneously read and write to a file.\n",
    "‘a’ – Append Mode: With this mode the user can append the data without overwriting any already existing data in the file.\n",
    "‘a+’ – Append and Read Mode: In this mode you can read and append the data without overwriting the original file.\n",
    "‘x’ – Exclusive Creating Mode: This mode is for the sole purpose of creating new files. Use this mode if you know the file to be written doesn’t exist beforehand."
   ]
  },
  {
   "cell_type": "markdown",
   "id": "52827f6a",
   "metadata": {},
   "source": [
    "6. What are the three mode arguments that can be passed to the open() function ?\n",
    "A file can be Accessed in python using open() function. open function takes two arguments filename and mode of operation (optional). if mode is not provided the default mode of opening is read mode\n",
    "So, the syntax being: open(filename, mode)\n",
    "\n",
    "‘r’ – Read Mode: This is the default mode for open(). The file is opened and a pointer is positioned at the beginning of the file’s content.\n",
    "‘w’ – Write Mode: Using this mode will overwrite any existing content in a file. If the given file does not exist, a new one will be created.\n",
    "‘r+’ – Read/Write Mode: Use this mode if you need to simultaneously read and write to a file.\n",
    "‘a’ – Append Mode: With this mode the user can append the data without overwriting any already existing data in the file.\n",
    "‘a+’ – Append and Read Mode: In this mode you can read and append the data without overwriting the original file.\n",
    "‘x’ – Exclusive Creating Mode: This mode is for the sole purpose of creating new files. Use this mode if you know the file to be written doesn’t exist beforehand."
   ]
  },
  {
   "cell_type": "markdown",
   "id": "1b2058a8",
   "metadata": {},
   "source": [
    "7. What happens if an existing file is opened in write mode ?\n",
    "Using this mode will overwrite any existing content in a file. If the given file does not exist, a new one will be created."
   ]
  },
  {
   "cell_type": "markdown",
   "id": "bd70a505",
   "metadata": {},
   "source": [
    "8. How do you tell the difference between read() and readlines() ?\n",
    "The main difference is that read() will read the whole file at once and then print out the first characters that take up as many bytes as you specify in the parenthesis.\n",
    "The read() would treat each character in the file separately, meaning that the iteration would happen for every character.\n",
    "Whereas the readline() that will read and print out only the first characters that take up as many bytes as you specify in the parenthesis. You may want to use readline() when you're reading files that are too big for your RAM.\n",
    "\n",
    "The readline() function, on the other hand, only reads a single line of the file. This means that if the first line of the file were three lines long, the readline() function would only parse (or iterate/operate) on the first line of the file. "
   ]
  },
  {
   "cell_type": "markdown",
   "id": "43d6fd14",
   "metadata": {},
   "source": [
    "9. What data structure does a shelf value resemble ?\n",
    "it contains key and values it represents dictionary."
   ]
  }
 ],
 "metadata": {
  "kernelspec": {
   "display_name": "Python 3 (ipykernel)",
   "language": "python",
   "name": "python3"
  },
  "language_info": {
   "codemirror_mode": {
    "name": "ipython",
    "version": 3
   },
   "file_extension": ".py",
   "mimetype": "text/x-python",
   "name": "python",
   "nbconvert_exporter": "python",
   "pygments_lexer": "ipython3",
   "version": "3.11.3"
  }
 },
 "nbformat": 4,
 "nbformat_minor": 5
}
